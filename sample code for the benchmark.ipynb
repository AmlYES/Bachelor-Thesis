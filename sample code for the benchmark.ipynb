{
 "cells": [
  {
   "cell_type": "code",
   "execution_count": 1,
   "id": "da598762-3f89-41d4-a8ce-522db63689f3",
   "metadata": {},
   "outputs": [],
   "source": [
    "# EXP4: THE BENCHMARK (ALL REAL)"
   ]
  },
  {
   "cell_type": "code",
   "execution_count": 3,
   "id": "29305eb2-052b-4c5d-953d-c281c84bcdf9",
   "metadata": {},
   "outputs": [],
   "source": [
    "import cv2\n",
    "from matplotlib import pyplot as plt\n",
    "import numpy as np\n",
    "import tensorflow as tf\n",
    "from tensorflow.keras.models import Sequential\n",
    "from tensorflow.keras.layers import Conv2D, MaxPooling2D, Dense, Flatten, Dropout\n",
    "from tensorflow.keras.regularizers import l2"
   ]
  },
  {
   "cell_type": "code",
   "execution_count": 5,
   "id": "ec8b2fa7-7efb-433a-8a02-d2e1dc814588",
   "metadata": {},
   "outputs": [
    {
     "name": "stdout",
     "output_type": "stream",
     "text": [
      "Found 1706 files belonging to 2 classes.\n"
     ]
    }
   ],
   "source": [
    "# TRAIN - TEST - VALIDATION (REAL)\n",
    "train_data = tf.keras.utils.image_dataset_from_directory(r\"E:\\bachelor\\speed bumps\\real\", batch_size= 100)\n",
    "data_iterator = train_data.as_numpy_iterator()\n",
    "batch = data_iterator.next()"
   ]
  },
  {
   "cell_type": "code",
   "execution_count": 6,
   "id": "71bcc201-1c17-41a8-bd1e-b72265176f92",
   "metadata": {
    "scrolled": true
   },
   "outputs": [
    {
     "data": {
      "text/plain": [
       "(array([[[[0.9450521 , 0.9960325 , 0.98818934],\n",
       "          [0.9470588 , 0.99583334, 0.9879902 ],\n",
       "          [0.9487745 , 0.99583334, 0.9879902 ],\n",
       "          ...,\n",
       "          [0.9070006 , 0.98543197, 0.9984222 ],\n",
       "          [0.9161152 , 0.98929226, 0.99820775],\n",
       "          [0.9386642 , 0.9993107 , 1.        ]],\n",
       " \n",
       "         [[0.9465686 , 0.99534315, 0.9882353 ],\n",
       "          [0.94558823, 0.99132967, 0.9846354 ],\n",
       "          [0.94730395, 0.9906863 , 0.9843137 ],\n",
       "          ...,\n",
       "          [0.83278185, 0.9112132 , 0.94258577],\n",
       "          [0.86469054, 0.9365809 , 0.9555147 ],\n",
       "          [0.92446387, 0.9905331 , 0.99347425]],\n",
       " \n",
       "         [[0.9585784 , 0.9967984 , 0.9938725 ],\n",
       "          [0.95759803, 0.99019605, 0.9884804 ],\n",
       "          [0.95931375, 0.9867647 , 0.9867647 ],\n",
       "          ...,\n",
       "          [0.6436734 , 0.7221048 , 0.75347733],\n",
       "          [0.73131126, 0.8045956 , 0.8291054 ],\n",
       "          [0.8476103 , 0.91427696, 0.92996323]],\n",
       " \n",
       "         ...,\n",
       " \n",
       "         [[0.40450367, 0.42803308, 0.37313113],\n",
       "          [0.4021446 , 0.42346814, 0.37518382],\n",
       "          [0.38897058, 0.40857843, 0.36544117],\n",
       "          ...,\n",
       "          [0.41821384, 0.42605698, 0.35939032],\n",
       "          [0.43049937, 0.4400582 , 0.36996016],\n",
       "          [0.42904413, 0.44080883, 0.36629903]],\n",
       " \n",
       "         [[0.37709865, 0.4070006 , 0.3584712 ],\n",
       "          [0.3862592 , 0.41753983, 0.37562805],\n",
       "          [0.38538602, 0.41773897, 0.38097426],\n",
       "          ...,\n",
       "          [0.41390932, 0.42493874, 0.3518995 ],\n",
       "          [0.41749388, 0.43163297, 0.35516238],\n",
       "          [0.44001225, 0.45814952, 0.37726715]],\n",
       " \n",
       "         [[0.38316482, 0.41453737, 0.36747855],\n",
       "          [0.37412685, 0.40770528, 0.3672641 ],\n",
       "          [0.4013327 , 0.43662685, 0.4013327 ],\n",
       "          ...,\n",
       "          [0.40807292, 0.41983762, 0.34532782],\n",
       "          [0.41459864, 0.42979473, 0.35185355],\n",
       "          [0.43045342, 0.45006126, 0.36770833]]],\n",
       " \n",
       " \n",
       "        [[[1.        , 0.9799939 , 0.9760723 ],\n",
       "          [0.9802849 , 0.9849418 , 0.9876379 ],\n",
       "          [0.9723039 , 0.99583334, 0.9997702 ],\n",
       "          ...,\n",
       "          [0.40346202, 0.72503066, 0.9956189 ],\n",
       "          [0.40013787, 0.7217065 , 0.9940104 ],\n",
       "          [0.39980087, 0.7213695 , 0.9958793 ]],\n",
       " \n",
       "         [[0.9904412 , 0.9781556 , 0.97349876],\n",
       "          [0.9740349 , 0.98871017, 0.990671  ],\n",
       "          [0.9672488 , 0.99886644, 1.        ],\n",
       "          ...,\n",
       "          [0.40019915, 0.7217678 , 0.99088544],\n",
       "          [0.4017923 , 0.7233609 , 0.99451596],\n",
       "          [0.39681372, 0.71838236, 0.99215686]],\n",
       " \n",
       "         [[0.94710475, 0.99416363, 0.98632044],\n",
       "          [0.9310202 , 0.98910844, 0.9892616 ],\n",
       "          [0.9219822 , 0.9886489 , 0.99502146],\n",
       "          ...,\n",
       "          [0.3999234 , 0.72149205, 0.98423713],\n",
       "          [0.39931065, 0.7208793 , 0.9870558 ],\n",
       "          [0.39980087, 0.7213695 , 0.9919577 ]],\n",
       " \n",
       "         ...,\n",
       " \n",
       "         [[0.10975797, 0.16073836, 0.2313266 ],\n",
       "          [0.10168505, 0.15266544, 0.21443015],\n",
       "          [0.09298407, 0.14396445, 0.19886643],\n",
       "          ...,\n",
       "          [0.49137563, 0.51490504, 0.45215994],\n",
       "          [0.463894  , 0.48742342, 0.4246783 ],\n",
       "          [0.47233456, 0.49586397, 0.43311888]],\n",
       " \n",
       "         [[0.10098039, 0.17107843, 0.22254902],\n",
       "          [0.09295343, 0.16305147, 0.22003676],\n",
       "          [0.10821079, 0.17830883, 0.23958333],\n",
       "          ...,\n",
       "          [0.44877452, 0.4659314 , 0.40637255],\n",
       "          [0.40355393, 0.42071077, 0.36115196],\n",
       "          [0.47556677, 0.49272364, 0.43316483]],\n",
       " \n",
       "         [[0.11104473, 0.18555453, 0.23261335],\n",
       "          [0.13201593, 0.20652573, 0.26240808],\n",
       "          [0.17751226, 0.25202206, 0.31476715],\n",
       "          ...,\n",
       "          [0.4206495 , 0.43633577, 0.37751225],\n",
       "          [0.37032783, 0.3860141 , 0.32719058],\n",
       "          [0.4499234 , 0.46560967, 0.40678614]]],\n",
       " \n",
       " \n",
       "        [[[0.7293658 , 0.79995406, 0.882307  ],\n",
       "          [0.7291667 , 0.7997549 , 0.88210785],\n",
       "          [0.72572   , 0.7963082 , 0.87866116],\n",
       "          ...,\n",
       "          [0.5921569 , 0.67058825, 0.7411765 ],\n",
       "          [0.5921569 , 0.67058825, 0.7411765 ],\n",
       "          [0.5921569 , 0.67058825, 0.7411765 ]],\n",
       " \n",
       "         [[0.72660846, 0.7971967 , 0.87807906],\n",
       "          [0.7240196 , 0.7946078 , 0.8754902 ],\n",
       "          [0.7240196 , 0.7946078 , 0.8754902 ],\n",
       "          ...,\n",
       "          [0.59211093, 0.6705423 , 0.74113053],\n",
       "          [0.59142154, 0.6698529 , 0.7404412 ],\n",
       "          [0.59142154, 0.6698529 , 0.7404412 ]],\n",
       " \n",
       "         [[0.7151961 , 0.7857843 , 0.8602941 ],\n",
       "          [0.7151961 , 0.7857843 , 0.8602941 ],\n",
       "          [0.7151961 , 0.7857843 , 0.8602941 ],\n",
       "          ...,\n",
       "          [0.59068626, 0.6691176 , 0.73970586],\n",
       "          [0.5870098 , 0.66544116, 0.7360294 ],\n",
       "          [0.5860141 , 0.66444546, 0.7350337 ]],\n",
       " \n",
       "         ...,\n",
       " \n",
       "         [[0.41763175, 0.4490043 , 0.40194547],\n",
       "          [0.4110294 , 0.44240198, 0.39534312],\n",
       "          [0.3979473 , 0.42931986, 0.38226104],\n",
       "          ...,\n",
       "          [0.30433518, 0.33570772, 0.2886489 ],\n",
       "          [0.30857843, 0.33995098, 0.29289216],\n",
       "          [0.30859375, 0.3399663 , 0.29290748]],\n",
       " \n",
       "         [[0.407981  , 0.44253984, 0.395481  ],\n",
       "          [0.39779413, 0.43056065, 0.38350183],\n",
       "          [0.39298406, 0.4243566 , 0.3772978 ],\n",
       "          ...,\n",
       "          [0.29848346, 0.329856  , 0.28598344],\n",
       "          [0.30546874, 0.3368413 , 0.29157475],\n",
       "          [0.30528492, 0.33665746, 0.28959864]],\n",
       " \n",
       "         [[0.40200675, 0.43730086, 0.39024204],\n",
       "          [0.3903033 , 0.42339155, 0.37633273],\n",
       "          [0.3884804 , 0.41985294, 0.37279412],\n",
       "          ...,\n",
       "          [0.29829964, 0.3296722 , 0.28653494],\n",
       "          [0.30381435, 0.3351869 , 0.29033396],\n",
       "          [0.30886948, 0.34024203, 0.2931832 ]]],\n",
       " \n",
       " \n",
       "        ...,\n",
       " \n",
       " \n",
       "        [[[0.32456556, 0.32456556, 0.19123223],\n",
       "          [0.24027199, 0.21746324, 0.11833433],\n",
       "          [0.3034195 , 0.2798901 , 0.21714498],\n",
       "          ...,\n",
       "          [0.59819865, 0.5942771 , 0.6178065 ],\n",
       "          [0.73191637, 0.7279948 , 0.7515242 ],\n",
       "          [0.65762794, 0.6537064 , 0.6850789 ]],\n",
       " \n",
       "         [[0.31044534, 0.30652377, 0.18495513],\n",
       "          [0.24942675, 0.22589734, 0.13271412],\n",
       "          [0.2658126 , 0.24228318, 0.17953809],\n",
       "          ...,\n",
       "          [0.59195006, 0.5880285 , 0.6115579 ],\n",
       "          [0.6535136 , 0.64959204, 0.67312145],\n",
       "          [0.6476869 , 0.64376533, 0.6751379 ]],\n",
       " \n",
       "         [[0.3820935 , 0.36640722, 0.2526817 ],\n",
       "          [0.27266124, 0.24795651, 0.16369985],\n",
       "          [0.3010787 , 0.2775493 , 0.2148042 ],\n",
       "          ...,\n",
       "          [0.6011866 , 0.597265  , 0.6207944 ],\n",
       "          [0.64515245, 0.6412309 , 0.6647603 ],\n",
       "          [0.6563481 , 0.65242654, 0.6837991 ]],\n",
       " \n",
       "         ...,\n",
       " \n",
       "         [[0.4083646 , 0.40052146, 0.40444303],\n",
       "          [0.39732578, 0.38948265, 0.39340422],\n",
       "          [0.43964723, 0.4318041 , 0.43572566],\n",
       "          ...,\n",
       "          [0.51542526, 0.51542526, 0.5624841 ],\n",
       "          [0.5176439 , 0.5176439 , 0.56470275],\n",
       "          [0.5149119 , 0.5149119 , 0.5619707 ]],\n",
       " \n",
       "         [[0.40102214, 0.393179  , 0.39710057],\n",
       "          [0.43076393, 0.4229208 , 0.42684236],\n",
       "          [0.44371936, 0.43587622, 0.4397978 ],\n",
       "          ...,\n",
       "          [0.51789904, 0.51789904, 0.56495786],\n",
       "          [0.5021855 , 0.5021855 , 0.54924434],\n",
       "          [0.512234  , 0.512234  , 0.5592928 ]],\n",
       " \n",
       "         [[0.4166089 , 0.40876576, 0.41268733],\n",
       "          [0.44771752, 0.43987438, 0.44379595],\n",
       "          [0.4211369 , 0.41329375, 0.41721532],\n",
       "          ...,\n",
       "          [0.5121045 , 0.5121045 , 0.55916333],\n",
       "          [0.44453683, 0.44453683, 0.49159566],\n",
       "          [0.51427555, 0.51427555, 0.5613344 ]]],\n",
       " \n",
       " \n",
       "        [[[0.46307206, 0.46307206, 0.4709152 ],\n",
       "          [0.50444716, 0.50444716, 0.5122903 ],\n",
       "          [0.56738806, 0.56738806, 0.5752312 ],\n",
       "          ...,\n",
       "          [0.73711634, 0.6704497 , 0.6390771 ],\n",
       "          [0.6809003 , 0.6142336 , 0.58678263],\n",
       "          [0.6943874 , 0.6277207 , 0.59634817]],\n",
       " \n",
       "         [[0.35178533, 0.35178533, 0.35962847],\n",
       "          [0.5288885 , 0.5288885 , 0.53673166],\n",
       "          [0.55546874, 0.55546874, 0.5633119 ],\n",
       "          ...,\n",
       "          [0.7343597 , 0.67637867, 0.6421109 ],\n",
       "          [0.69411814, 0.6332419 , 0.6057909 ],\n",
       "          [0.6937167 , 0.62705004, 0.5956775 ]],\n",
       " \n",
       "         [[0.46269196, 0.46269196, 0.4705351 ],\n",
       "          [0.5724789 , 0.5724789 , 0.580322  ],\n",
       "          [0.54386896, 0.54386896, 0.5517121 ],\n",
       "          ...,\n",
       "          [0.7392887 , 0.68438673, 0.6490926 ],\n",
       "          [0.72660846, 0.6695925 , 0.64123774],\n",
       "          [0.7031403 , 0.63647366, 0.6051011 ]],\n",
       " \n",
       "         ...,\n",
       " \n",
       "         [[0.46096957, 0.45312643, 0.457048  ],\n",
       "          [0.4413122 , 0.43346906, 0.43739063],\n",
       "          [0.46056986, 0.46056986, 0.46056986],\n",
       "          ...,\n",
       "          [0.50684285, 0.5029213 , 0.5264507 ],\n",
       "          [0.4306308 , 0.42670923, 0.45023865],\n",
       "          [0.50649655, 0.502575  , 0.5261044 ]],\n",
       " \n",
       "         [[0.46343443, 0.4555913 , 0.45951286],\n",
       "          [0.43646625, 0.42862308, 0.43254465],\n",
       "          [0.46919423, 0.46919423, 0.46919423],\n",
       "          ...,\n",
       "          [0.46086523, 0.45694366, 0.48047307],\n",
       "          [0.45791134, 0.45398977, 0.47751918],\n",
       "          [0.51897717, 0.5150556 , 0.538585  ]],\n",
       " \n",
       "         [[0.45282462, 0.4449815 , 0.44890305],\n",
       "          [0.43651697, 0.42867383, 0.4325954 ],\n",
       "          [0.45770672, 0.45770672, 0.45770672],\n",
       "          ...,\n",
       "          [0.47568718, 0.4717656 , 0.49529502],\n",
       "          [0.4922689 , 0.48834732, 0.5118767 ],\n",
       "          [0.5294884 , 0.5255668 , 0.5490962 ]]],\n",
       " \n",
       " \n",
       "        [[[0.9910386 , 0.9910386 , 0.9910386 ],\n",
       "          [1.        , 1.        , 1.        ],\n",
       "          [0.9754136 , 0.9754136 , 0.9754136 ],\n",
       "          ...,\n",
       "          [0.79264706, 0.8514706 , 0.91813725],\n",
       "          [0.80332416, 0.8621477 , 0.925383  ],\n",
       "          [0.8137714 , 0.87259495, 0.9314185 ]],\n",
       " \n",
       "         [[0.99972427, 0.99972427, 0.99972427],\n",
       "          [0.99894303, 0.99894303, 0.99894303],\n",
       "          [0.99397975, 0.99397975, 0.99397975],\n",
       "          ...,\n",
       "          [0.7940717 , 0.8528952 , 0.9180913 ],\n",
       "          [0.80212927, 0.8609528 , 0.9233609 ],\n",
       "          [0.80710787, 0.8659314 , 0.9247549 ]],\n",
       " \n",
       "         [[0.996538  , 0.996538  , 0.996538  ],\n",
       "          [0.9943628 , 0.9943628 , 0.9943628 ],\n",
       "          [0.9997549 , 0.9997549 , 0.9997549 ],\n",
       "          ...,\n",
       "          [0.79901963, 0.85784316, 0.9166667 ],\n",
       "          [0.80269605, 0.86151963, 0.92034316],\n",
       "          [0.80488664, 0.86371017, 0.9225337 ]],\n",
       " \n",
       "         ...,\n",
       " \n",
       "         [[0.3529412 , 0.35686275, 0.31764707],\n",
       "          [0.3529412 , 0.35686275, 0.31764707],\n",
       "          [0.3529412 , 0.35686275, 0.31764707],\n",
       "          ...,\n",
       "          [0.35628062, 0.36412376, 0.30530024],\n",
       "          [0.36410844, 0.37195158, 0.31312805],\n",
       "          [0.34463847, 0.3524816 , 0.29365808]],\n",
       " \n",
       "         [[0.3497549 , 0.35367647, 0.31446078],\n",
       "          [0.3497549 , 0.35367647, 0.31446078],\n",
       "          [0.34676778, 0.35068935, 0.31147364],\n",
       "          ...,\n",
       "          [0.36611518, 0.3803309 , 0.3278799 ],\n",
       "          [0.35948223, 0.3736979 , 0.31845894],\n",
       "          [0.3429228 , 0.35713848, 0.29831496]],\n",
       " \n",
       "         [[0.34534314, 0.3492647 , 0.31004903],\n",
       "          [0.34534314, 0.3492647 , 0.31004903],\n",
       "          [0.34166667, 0.34558824, 0.30637255],\n",
       "          ...,\n",
       "          [0.33711705, 0.35280332, 0.30182293],\n",
       "          [0.3671109 , 0.38279718, 0.3283854 ],\n",
       "          [0.35652575, 0.37221202, 0.31338847]]]], dtype=float32),\n",
       " array([0, 0, 0, 1, 0, 0, 1, 1, 1, 1, 0, 1, 1, 1, 1, 0, 1, 1, 1, 1, 0, 1,\n",
       "        1, 1, 1, 0, 1, 0, 1, 0, 0, 0, 1, 1, 1, 0, 1, 1, 0, 1, 1, 1, 1, 0,\n",
       "        0, 1, 1, 1, 1, 1, 1, 0, 1, 1, 0, 1, 1, 0, 1, 1, 0, 1, 0, 1, 1, 0,\n",
       "        0, 1, 1, 0, 1, 1, 1, 0, 1, 0, 1, 1, 1, 0, 0, 0, 1, 1, 1, 1, 0, 1,\n",
       "        0, 0, 1, 1, 0, 1, 1, 0, 1, 1, 1, 0]))"
      ]
     },
     "execution_count": 6,
     "metadata": {},
     "output_type": "execute_result"
    }
   ],
   "source": [
    "data = train_data.map(lambda x,y: (x/255, y))\n",
    "data.as_numpy_iterator().next()"
   ]
  },
  {
   "cell_type": "code",
   "execution_count": 17,
   "id": "59b1dfac-b885-4af2-a4bf-5293a7638531",
   "metadata": {},
   "outputs": [],
   "source": [
    "train_size = int(len(data)*.7)+1\n",
    "val_size = int(len(data)*.2)\n",
    "test_size = int(len(data)*.1)+1"
   ]
  },
  {
   "cell_type": "code",
   "execution_count": 18,
   "id": "9a7430c1-1eaf-4619-a555-f4f5ccaa4517",
   "metadata": {},
   "outputs": [
    {
     "data": {
      "text/plain": [
       "18"
      ]
     },
     "execution_count": 18,
     "metadata": {},
     "output_type": "execute_result"
    }
   ],
   "source": [
    "len(data)"
   ]
  },
  {
   "cell_type": "code",
   "execution_count": 19,
   "id": "550e6004-9d39-4fe2-820c-d381dbbf9f6e",
   "metadata": {},
   "outputs": [
    {
     "data": {
      "text/plain": [
       "3"
      ]
     },
     "execution_count": 19,
     "metadata": {},
     "output_type": "execute_result"
    }
   ],
   "source": [
    "val_size"
   ]
  },
  {
   "cell_type": "code",
   "execution_count": 20,
   "id": "80af9127-d248-453d-8988-1bc595ff77a5",
   "metadata": {},
   "outputs": [
    {
     "data": {
      "text/plain": [
       "13"
      ]
     },
     "execution_count": 20,
     "metadata": {},
     "output_type": "execute_result"
    }
   ],
   "source": [
    "train_size"
   ]
  },
  {
   "cell_type": "code",
   "execution_count": 21,
   "id": "f237af27-1843-41c6-a091-bbd11a570cbf",
   "metadata": {},
   "outputs": [
    {
     "data": {
      "text/plain": [
       "2"
      ]
     },
     "execution_count": 21,
     "metadata": {},
     "output_type": "execute_result"
    }
   ],
   "source": [
    "test_size"
   ]
  },
  {
   "cell_type": "code",
   "execution_count": 22,
   "id": "2f7da51d-9e70-4668-aeb6-9e1a143e0fbd",
   "metadata": {},
   "outputs": [],
   "source": [
    "train = data.take(train_size)\n",
    "val = data.skip(train_size).take(val_size)\n",
    "test = data.skip(train_size).skip(val_size).take(test_size)"
   ]
  },
  {
   "cell_type": "code",
   "execution_count": 24,
   "id": "7c165ca1-ba35-4193-9cbc-f0d6a3fb372e",
   "metadata": {},
   "outputs": [
    {
     "data": {
      "text/html": [
       "<pre style=\"white-space:pre;overflow-x:auto;line-height:normal;font-family:Menlo,'DejaVu Sans Mono',consolas,'Courier New',monospace\"><span style=\"font-weight: bold\">Model: \"sequential_1\"</span>\n",
       "</pre>\n"
      ],
      "text/plain": [
       "\u001b[1mModel: \"sequential_1\"\u001b[0m\n"
      ]
     },
     "metadata": {},
     "output_type": "display_data"
    },
    {
     "data": {
      "text/html": [
       "<pre style=\"white-space:pre;overflow-x:auto;line-height:normal;font-family:Menlo,'DejaVu Sans Mono',consolas,'Courier New',monospace\">┏━━━━━━━━━━━━━━━━━━━━━━━━━━━━━━━━━━━━━━┳━━━━━━━━━━━━━━━━━━━━━━━━━━━━━┳━━━━━━━━━━━━━━━━━┓\n",
       "┃<span style=\"font-weight: bold\"> Layer (type)                         </span>┃<span style=\"font-weight: bold\"> Output Shape                </span>┃<span style=\"font-weight: bold\">         Param # </span>┃\n",
       "┡━━━━━━━━━━━━━━━━━━━━━━━━━━━━━━━━━━━━━━╇━━━━━━━━━━━━━━━━━━━━━━━━━━━━━╇━━━━━━━━━━━━━━━━━┩\n",
       "│ conv2d_3 (<span style=\"color: #0087ff; text-decoration-color: #0087ff\">Conv2D</span>)                    │ (<span style=\"color: #00d7ff; text-decoration-color: #00d7ff\">None</span>, <span style=\"color: #00af00; text-decoration-color: #00af00\">254</span>, <span style=\"color: #00af00; text-decoration-color: #00af00\">254</span>, <span style=\"color: #00af00; text-decoration-color: #00af00\">16</span>)        │             <span style=\"color: #00af00; text-decoration-color: #00af00\">448</span> │\n",
       "├──────────────────────────────────────┼─────────────────────────────┼─────────────────┤\n",
       "│ max_pooling2d_3 (<span style=\"color: #0087ff; text-decoration-color: #0087ff\">MaxPooling2D</span>)       │ (<span style=\"color: #00d7ff; text-decoration-color: #00d7ff\">None</span>, <span style=\"color: #00af00; text-decoration-color: #00af00\">127</span>, <span style=\"color: #00af00; text-decoration-color: #00af00\">127</span>, <span style=\"color: #00af00; text-decoration-color: #00af00\">16</span>)        │               <span style=\"color: #00af00; text-decoration-color: #00af00\">0</span> │\n",
       "├──────────────────────────────────────┼─────────────────────────────┼─────────────────┤\n",
       "│ conv2d_4 (<span style=\"color: #0087ff; text-decoration-color: #0087ff\">Conv2D</span>)                    │ (<span style=\"color: #00d7ff; text-decoration-color: #00d7ff\">None</span>, <span style=\"color: #00af00; text-decoration-color: #00af00\">125</span>, <span style=\"color: #00af00; text-decoration-color: #00af00\">125</span>, <span style=\"color: #00af00; text-decoration-color: #00af00\">32</span>)        │           <span style=\"color: #00af00; text-decoration-color: #00af00\">4,640</span> │\n",
       "├──────────────────────────────────────┼─────────────────────────────┼─────────────────┤\n",
       "│ max_pooling2d_4 (<span style=\"color: #0087ff; text-decoration-color: #0087ff\">MaxPooling2D</span>)       │ (<span style=\"color: #00d7ff; text-decoration-color: #00d7ff\">None</span>, <span style=\"color: #00af00; text-decoration-color: #00af00\">62</span>, <span style=\"color: #00af00; text-decoration-color: #00af00\">62</span>, <span style=\"color: #00af00; text-decoration-color: #00af00\">32</span>)          │               <span style=\"color: #00af00; text-decoration-color: #00af00\">0</span> │\n",
       "├──────────────────────────────────────┼─────────────────────────────┼─────────────────┤\n",
       "│ conv2d_5 (<span style=\"color: #0087ff; text-decoration-color: #0087ff\">Conv2D</span>)                    │ (<span style=\"color: #00d7ff; text-decoration-color: #00d7ff\">None</span>, <span style=\"color: #00af00; text-decoration-color: #00af00\">60</span>, <span style=\"color: #00af00; text-decoration-color: #00af00\">60</span>, <span style=\"color: #00af00; text-decoration-color: #00af00\">16</span>)          │           <span style=\"color: #00af00; text-decoration-color: #00af00\">4,624</span> │\n",
       "├──────────────────────────────────────┼─────────────────────────────┼─────────────────┤\n",
       "│ max_pooling2d_5 (<span style=\"color: #0087ff; text-decoration-color: #0087ff\">MaxPooling2D</span>)       │ (<span style=\"color: #00d7ff; text-decoration-color: #00d7ff\">None</span>, <span style=\"color: #00af00; text-decoration-color: #00af00\">30</span>, <span style=\"color: #00af00; text-decoration-color: #00af00\">30</span>, <span style=\"color: #00af00; text-decoration-color: #00af00\">16</span>)          │               <span style=\"color: #00af00; text-decoration-color: #00af00\">0</span> │\n",
       "├──────────────────────────────────────┼─────────────────────────────┼─────────────────┤\n",
       "│ flatten_1 (<span style=\"color: #0087ff; text-decoration-color: #0087ff\">Flatten</span>)                  │ (<span style=\"color: #00d7ff; text-decoration-color: #00d7ff\">None</span>, <span style=\"color: #00af00; text-decoration-color: #00af00\">14400</span>)               │               <span style=\"color: #00af00; text-decoration-color: #00af00\">0</span> │\n",
       "├──────────────────────────────────────┼─────────────────────────────┼─────────────────┤\n",
       "│ dense_2 (<span style=\"color: #0087ff; text-decoration-color: #0087ff\">Dense</span>)                      │ (<span style=\"color: #00d7ff; text-decoration-color: #00d7ff\">None</span>, <span style=\"color: #00af00; text-decoration-color: #00af00\">256</span>)                 │       <span style=\"color: #00af00; text-decoration-color: #00af00\">3,686,656</span> │\n",
       "├──────────────────────────────────────┼─────────────────────────────┼─────────────────┤\n",
       "│ dropout_1 (<span style=\"color: #0087ff; text-decoration-color: #0087ff\">Dropout</span>)                  │ (<span style=\"color: #00d7ff; text-decoration-color: #00d7ff\">None</span>, <span style=\"color: #00af00; text-decoration-color: #00af00\">256</span>)                 │               <span style=\"color: #00af00; text-decoration-color: #00af00\">0</span> │\n",
       "├──────────────────────────────────────┼─────────────────────────────┼─────────────────┤\n",
       "│ dense_3 (<span style=\"color: #0087ff; text-decoration-color: #0087ff\">Dense</span>)                      │ (<span style=\"color: #00d7ff; text-decoration-color: #00d7ff\">None</span>, <span style=\"color: #00af00; text-decoration-color: #00af00\">1</span>)                   │             <span style=\"color: #00af00; text-decoration-color: #00af00\">257</span> │\n",
       "└──────────────────────────────────────┴─────────────────────────────┴─────────────────┘\n",
       "</pre>\n"
      ],
      "text/plain": [
       "┏━━━━━━━━━━━━━━━━━━━━━━━━━━━━━━━━━━━━━━┳━━━━━━━━━━━━━━━━━━━━━━━━━━━━━┳━━━━━━━━━━━━━━━━━┓\n",
       "┃\u001b[1m \u001b[0m\u001b[1mLayer (type)                        \u001b[0m\u001b[1m \u001b[0m┃\u001b[1m \u001b[0m\u001b[1mOutput Shape               \u001b[0m\u001b[1m \u001b[0m┃\u001b[1m \u001b[0m\u001b[1m        Param #\u001b[0m\u001b[1m \u001b[0m┃\n",
       "┡━━━━━━━━━━━━━━━━━━━━━━━━━━━━━━━━━━━━━━╇━━━━━━━━━━━━━━━━━━━━━━━━━━━━━╇━━━━━━━━━━━━━━━━━┩\n",
       "│ conv2d_3 (\u001b[38;5;33mConv2D\u001b[0m)                    │ (\u001b[38;5;45mNone\u001b[0m, \u001b[38;5;34m254\u001b[0m, \u001b[38;5;34m254\u001b[0m, \u001b[38;5;34m16\u001b[0m)        │             \u001b[38;5;34m448\u001b[0m │\n",
       "├──────────────────────────────────────┼─────────────────────────────┼─────────────────┤\n",
       "│ max_pooling2d_3 (\u001b[38;5;33mMaxPooling2D\u001b[0m)       │ (\u001b[38;5;45mNone\u001b[0m, \u001b[38;5;34m127\u001b[0m, \u001b[38;5;34m127\u001b[0m, \u001b[38;5;34m16\u001b[0m)        │               \u001b[38;5;34m0\u001b[0m │\n",
       "├──────────────────────────────────────┼─────────────────────────────┼─────────────────┤\n",
       "│ conv2d_4 (\u001b[38;5;33mConv2D\u001b[0m)                    │ (\u001b[38;5;45mNone\u001b[0m, \u001b[38;5;34m125\u001b[0m, \u001b[38;5;34m125\u001b[0m, \u001b[38;5;34m32\u001b[0m)        │           \u001b[38;5;34m4,640\u001b[0m │\n",
       "├──────────────────────────────────────┼─────────────────────────────┼─────────────────┤\n",
       "│ max_pooling2d_4 (\u001b[38;5;33mMaxPooling2D\u001b[0m)       │ (\u001b[38;5;45mNone\u001b[0m, \u001b[38;5;34m62\u001b[0m, \u001b[38;5;34m62\u001b[0m, \u001b[38;5;34m32\u001b[0m)          │               \u001b[38;5;34m0\u001b[0m │\n",
       "├──────────────────────────────────────┼─────────────────────────────┼─────────────────┤\n",
       "│ conv2d_5 (\u001b[38;5;33mConv2D\u001b[0m)                    │ (\u001b[38;5;45mNone\u001b[0m, \u001b[38;5;34m60\u001b[0m, \u001b[38;5;34m60\u001b[0m, \u001b[38;5;34m16\u001b[0m)          │           \u001b[38;5;34m4,624\u001b[0m │\n",
       "├──────────────────────────────────────┼─────────────────────────────┼─────────────────┤\n",
       "│ max_pooling2d_5 (\u001b[38;5;33mMaxPooling2D\u001b[0m)       │ (\u001b[38;5;45mNone\u001b[0m, \u001b[38;5;34m30\u001b[0m, \u001b[38;5;34m30\u001b[0m, \u001b[38;5;34m16\u001b[0m)          │               \u001b[38;5;34m0\u001b[0m │\n",
       "├──────────────────────────────────────┼─────────────────────────────┼─────────────────┤\n",
       "│ flatten_1 (\u001b[38;5;33mFlatten\u001b[0m)                  │ (\u001b[38;5;45mNone\u001b[0m, \u001b[38;5;34m14400\u001b[0m)               │               \u001b[38;5;34m0\u001b[0m │\n",
       "├──────────────────────────────────────┼─────────────────────────────┼─────────────────┤\n",
       "│ dense_2 (\u001b[38;5;33mDense\u001b[0m)                      │ (\u001b[38;5;45mNone\u001b[0m, \u001b[38;5;34m256\u001b[0m)                 │       \u001b[38;5;34m3,686,656\u001b[0m │\n",
       "├──────────────────────────────────────┼─────────────────────────────┼─────────────────┤\n",
       "│ dropout_1 (\u001b[38;5;33mDropout\u001b[0m)                  │ (\u001b[38;5;45mNone\u001b[0m, \u001b[38;5;34m256\u001b[0m)                 │               \u001b[38;5;34m0\u001b[0m │\n",
       "├──────────────────────────────────────┼─────────────────────────────┼─────────────────┤\n",
       "│ dense_3 (\u001b[38;5;33mDense\u001b[0m)                      │ (\u001b[38;5;45mNone\u001b[0m, \u001b[38;5;34m1\u001b[0m)                   │             \u001b[38;5;34m257\u001b[0m │\n",
       "└──────────────────────────────────────┴─────────────────────────────┴─────────────────┘\n"
      ]
     },
     "metadata": {},
     "output_type": "display_data"
    },
    {
     "data": {
      "text/html": [
       "<pre style=\"white-space:pre;overflow-x:auto;line-height:normal;font-family:Menlo,'DejaVu Sans Mono',consolas,'Courier New',monospace\"><span style=\"font-weight: bold\"> Total params: </span><span style=\"color: #00af00; text-decoration-color: #00af00\">3,696,625</span> (14.10 MB)\n",
       "</pre>\n"
      ],
      "text/plain": [
       "\u001b[1m Total params: \u001b[0m\u001b[38;5;34m3,696,625\u001b[0m (14.10 MB)\n"
      ]
     },
     "metadata": {},
     "output_type": "display_data"
    },
    {
     "data": {
      "text/html": [
       "<pre style=\"white-space:pre;overflow-x:auto;line-height:normal;font-family:Menlo,'DejaVu Sans Mono',consolas,'Courier New',monospace\"><span style=\"font-weight: bold\"> Trainable params: </span><span style=\"color: #00af00; text-decoration-color: #00af00\">3,696,625</span> (14.10 MB)\n",
       "</pre>\n"
      ],
      "text/plain": [
       "\u001b[1m Trainable params: \u001b[0m\u001b[38;5;34m3,696,625\u001b[0m (14.10 MB)\n"
      ]
     },
     "metadata": {},
     "output_type": "display_data"
    },
    {
     "data": {
      "text/html": [
       "<pre style=\"white-space:pre;overflow-x:auto;line-height:normal;font-family:Menlo,'DejaVu Sans Mono',consolas,'Courier New',monospace\"><span style=\"font-weight: bold\"> Non-trainable params: </span><span style=\"color: #00af00; text-decoration-color: #00af00\">0</span> (0.00 B)\n",
       "</pre>\n"
      ],
      "text/plain": [
       "\u001b[1m Non-trainable params: \u001b[0m\u001b[38;5;34m0\u001b[0m (0.00 B)\n"
      ]
     },
     "metadata": {},
     "output_type": "display_data"
    }
   ],
   "source": [
    "# THE MODEL\n",
    "model = Sequential()\n",
    "model.add(Conv2D(16, (3,3), 1, activation='relu', input_shape=(256,256,3)))\n",
    "model.add(MaxPooling2D())\n",
    "model.add(Conv2D(32, (3,3), activation='relu', kernel_regularizer=l2(0.01)))\n",
    "model.add(MaxPooling2D())\n",
    "model.add(Conv2D(16, (3, 3), activation='relu', kernel_regularizer=l2(0.01)))\n",
    "model.add(MaxPooling2D())\n",
    "model.add(Flatten())\n",
    "model.add(Dense(256, activation='relu'))\n",
    "model.add(Dropout(0.3))\n",
    "model.add(Dense(1, activation='sigmoid'))\n",
    "model.compile('adam', loss=tf.losses.BinaryCrossentropy(), metrics=['accuracy'])\n",
    "model.summary()"
   ]
  },
  {
   "cell_type": "code",
   "execution_count": 25,
   "id": "c5ec8886-8732-42a0-8f57-6348d4df5e01",
   "metadata": {
    "scrolled": true
   },
   "outputs": [
    {
     "name": "stdout",
     "output_type": "stream",
     "text": [
      "Epoch 1/30\n",
      "\u001b[1m13/13\u001b[0m \u001b[32m━━━━━━━━━━━━━━━━━━━━\u001b[0m\u001b[37m\u001b[0m \u001b[1m14s\u001b[0m 836ms/step - accuracy: 0.6344 - loss: 1.1036 - val_accuracy: 0.9367 - val_loss: 0.6130\n",
      "Epoch 2/30\n",
      "\u001b[1m13/13\u001b[0m \u001b[32m━━━━━━━━━━━━━━━━━━━━\u001b[0m\u001b[37m\u001b[0m \u001b[1m12s\u001b[0m 826ms/step - accuracy: 0.9471 - loss: 0.5200 - val_accuracy: 0.9767 - val_loss: 0.3753\n",
      "Epoch 3/30\n",
      "\u001b[1m13/13\u001b[0m \u001b[32m━━━━━━━━━━━━━━━━━━━━\u001b[0m\u001b[37m\u001b[0m \u001b[1m12s\u001b[0m 822ms/step - accuracy: 0.9678 - loss: 0.3904 - val_accuracy: 0.9833 - val_loss: 0.3030\n",
      "Epoch 4/30\n",
      "\u001b[1m13/13\u001b[0m \u001b[32m━━━━━━━━━━━━━━━━━━━━\u001b[0m\u001b[37m\u001b[0m \u001b[1m12s\u001b[0m 828ms/step - accuracy: 0.9783 - loss: 0.3072 - val_accuracy: 0.9767 - val_loss: 0.2827\n",
      "Epoch 5/30\n",
      "\u001b[1m13/13\u001b[0m \u001b[32m━━━━━━━━━━━━━━━━━━━━\u001b[0m\u001b[37m\u001b[0m \u001b[1m13s\u001b[0m 846ms/step - accuracy: 0.9842 - loss: 0.2657 - val_accuracy: 0.9933 - val_loss: 0.2154\n",
      "Epoch 6/30\n",
      "\u001b[1m13/13\u001b[0m \u001b[32m━━━━━━━━━━━━━━━━━━━━\u001b[0m\u001b[37m\u001b[0m \u001b[1m12s\u001b[0m 837ms/step - accuracy: 0.9875 - loss: 0.2318 - val_accuracy: 0.9900 - val_loss: 0.2045\n",
      "Epoch 7/30\n",
      "\u001b[1m13/13\u001b[0m \u001b[32m━━━━━━━━━━━━━━━━━━━━\u001b[0m\u001b[37m\u001b[0m \u001b[1m12s\u001b[0m 834ms/step - accuracy: 0.9906 - loss: 0.2088 - val_accuracy: 0.9967 - val_loss: 0.1822\n",
      "Epoch 8/30\n",
      "\u001b[1m13/13\u001b[0m \u001b[32m━━━━━━━━━━━━━━━━━━━━\u001b[0m\u001b[37m\u001b[0m \u001b[1m12s\u001b[0m 835ms/step - accuracy: 0.9931 - loss: 0.1927 - val_accuracy: 0.9867 - val_loss: 0.2007\n",
      "Epoch 9/30\n",
      "\u001b[1m13/13\u001b[0m \u001b[32m━━━━━━━━━━━━━━━━━━━━\u001b[0m\u001b[37m\u001b[0m \u001b[1m12s\u001b[0m 831ms/step - accuracy: 0.9856 - loss: 0.1939 - val_accuracy: 0.9933 - val_loss: 0.1763\n",
      "Epoch 10/30\n",
      "\u001b[1m13/13\u001b[0m \u001b[32m━━━━━━━━━━━━━━━━━━━━\u001b[0m\u001b[37m\u001b[0m \u001b[1m13s\u001b[0m 875ms/step - accuracy: 0.9964 - loss: 0.1670 - val_accuracy: 0.9967 - val_loss: 0.1601\n",
      "Epoch 11/30\n",
      "\u001b[1m13/13\u001b[0m \u001b[32m━━━━━━━━━━━━━━━━━━━━\u001b[0m\u001b[37m\u001b[0m \u001b[1m12s\u001b[0m 831ms/step - accuracy: 0.9975 - loss: 0.1616 - val_accuracy: 1.0000 - val_loss: 0.1447\n",
      "Epoch 12/30\n",
      "\u001b[1m13/13\u001b[0m \u001b[32m━━━━━━━━━━━━━━━━━━━━\u001b[0m\u001b[37m\u001b[0m \u001b[1m13s\u001b[0m 849ms/step - accuracy: 0.9977 - loss: 0.1455 - val_accuracy: 1.0000 - val_loss: 0.1389\n",
      "Epoch 13/30\n",
      "\u001b[1m13/13\u001b[0m \u001b[32m━━━━━━━━━━━━━━━━━━━━\u001b[0m\u001b[37m\u001b[0m \u001b[1m12s\u001b[0m 837ms/step - accuracy: 0.9949 - loss: 0.1444 - val_accuracy: 0.9933 - val_loss: 0.1485\n",
      "Epoch 14/30\n",
      "\u001b[1m13/13\u001b[0m \u001b[32m━━━━━━━━━━━━━━━━━━━━\u001b[0m\u001b[37m\u001b[0m \u001b[1m14s\u001b[0m 926ms/step - accuracy: 0.9978 - loss: 0.1415 - val_accuracy: 1.0000 - val_loss: 0.1273\n",
      "Epoch 15/30\n",
      "\u001b[1m13/13\u001b[0m \u001b[32m━━━━━━━━━━━━━━━━━━━━\u001b[0m\u001b[37m\u001b[0m \u001b[1m15s\u001b[0m 1s/step - accuracy: 0.9998 - loss: 0.1286 - val_accuracy: 1.0000 - val_loss: 0.1234\n",
      "Epoch 16/30\n",
      "\u001b[1m13/13\u001b[0m \u001b[32m━━━━━━━━━━━━━━━━━━━━\u001b[0m\u001b[37m\u001b[0m \u001b[1m14s\u001b[0m 926ms/step - accuracy: 1.0000 - loss: 0.1228 - val_accuracy: 1.0000 - val_loss: 0.1185\n",
      "Epoch 17/30\n",
      "\u001b[1m13/13\u001b[0m \u001b[32m━━━━━━━━━━━━━━━━━━━━\u001b[0m\u001b[37m\u001b[0m \u001b[1m13s\u001b[0m 903ms/step - accuracy: 0.9978 - loss: 0.1210 - val_accuracy: 1.0000 - val_loss: 0.1155\n",
      "Epoch 18/30\n",
      "\u001b[1m13/13\u001b[0m \u001b[32m━━━━━━━━━━━━━━━━━━━━\u001b[0m\u001b[37m\u001b[0m \u001b[1m12s\u001b[0m 828ms/step - accuracy: 0.9984 - loss: 0.1166 - val_accuracy: 0.9967 - val_loss: 0.1188\n",
      "Epoch 19/30\n",
      "\u001b[1m13/13\u001b[0m \u001b[32m━━━━━━━━━━━━━━━━━━━━\u001b[0m\u001b[37m\u001b[0m \u001b[1m13s\u001b[0m 840ms/step - accuracy: 0.9977 - loss: 0.1154 - val_accuracy: 1.0000 - val_loss: 0.1076\n",
      "Epoch 20/30\n",
      "\u001b[1m13/13\u001b[0m \u001b[32m━━━━━━━━━━━━━━━━━━━━\u001b[0m\u001b[37m\u001b[0m \u001b[1m15s\u001b[0m 1s/step - accuracy: 1.0000 - loss: 0.1076 - val_accuracy: 1.0000 - val_loss: 0.1034\n",
      "Epoch 21/30\n",
      "\u001b[1m13/13\u001b[0m \u001b[32m━━━━━━━━━━━━━━━━━━━━\u001b[0m\u001b[37m\u001b[0m \u001b[1m14s\u001b[0m 957ms/step - accuracy: 1.0000 - loss: 0.1032 - val_accuracy: 1.0000 - val_loss: 0.1002\n",
      "Epoch 22/30\n",
      "\u001b[1m13/13\u001b[0m \u001b[32m━━━━━━━━━━━━━━━━━━━━\u001b[0m\u001b[37m\u001b[0m \u001b[1m13s\u001b[0m 848ms/step - accuracy: 1.0000 - loss: 0.0999 - val_accuracy: 1.0000 - val_loss: 0.0984\n",
      "Epoch 23/30\n",
      "\u001b[1m13/13\u001b[0m \u001b[32m━━━━━━━━━━━━━━━━━━━━\u001b[0m\u001b[37m\u001b[0m \u001b[1m12s\u001b[0m 834ms/step - accuracy: 0.9998 - loss: 0.0968 - val_accuracy: 1.0000 - val_loss: 0.0940\n",
      "Epoch 24/30\n",
      "\u001b[1m13/13\u001b[0m \u001b[32m━━━━━━━━━━━━━━━━━━━━\u001b[0m\u001b[37m\u001b[0m \u001b[1m13s\u001b[0m 843ms/step - accuracy: 1.0000 - loss: 0.0946 - val_accuracy: 1.0000 - val_loss: 0.0906\n",
      "Epoch 25/30\n",
      "\u001b[1m13/13\u001b[0m \u001b[32m━━━━━━━━━━━━━━━━━━━━\u001b[0m\u001b[37m\u001b[0m \u001b[1m13s\u001b[0m 883ms/step - accuracy: 1.0000 - loss: 0.0914 - val_accuracy: 1.0000 - val_loss: 0.0885\n",
      "Epoch 26/30\n",
      "\u001b[1m13/13\u001b[0m \u001b[32m━━━━━━━━━━━━━━━━━━━━\u001b[0m\u001b[37m\u001b[0m \u001b[1m14s\u001b[0m 926ms/step - accuracy: 0.9999 - loss: 0.0898 - val_accuracy: 1.0000 - val_loss: 0.0873\n",
      "Epoch 27/30\n",
      "\u001b[1m13/13\u001b[0m \u001b[32m━━━━━━━━━━━━━━━━━━━━\u001b[0m\u001b[37m\u001b[0m \u001b[1m15s\u001b[0m 1s/step - accuracy: 1.0000 - loss: 0.0872 - val_accuracy: 1.0000 - val_loss: 0.0832\n",
      "Epoch 28/30\n",
      "\u001b[1m13/13\u001b[0m \u001b[32m━━━━━━━━━━━━━━━━━━━━\u001b[0m\u001b[37m\u001b[0m \u001b[1m13s\u001b[0m 886ms/step - accuracy: 1.0000 - loss: 0.0830 - val_accuracy: 1.0000 - val_loss: 0.0822\n",
      "Epoch 29/30\n",
      "\u001b[1m13/13\u001b[0m \u001b[32m━━━━━━━━━━━━━━━━━━━━\u001b[0m\u001b[37m\u001b[0m \u001b[1m13s\u001b[0m 858ms/step - accuracy: 0.9999 - loss: 0.0838 - val_accuracy: 1.0000 - val_loss: 0.0799\n",
      "Epoch 30/30\n",
      "\u001b[1m13/13\u001b[0m \u001b[32m━━━━━━━━━━━━━━━━━━━━\u001b[0m\u001b[37m\u001b[0m \u001b[1m13s\u001b[0m 844ms/step - accuracy: 0.9993 - loss: 0.0824 - val_accuracy: 1.0000 - val_loss: 0.0797\n"
     ]
    }
   ],
   "source": [
    "#TRAINING\n",
    "logdir='logs'\n",
    "tensorboard_callback = tf.keras.callbacks.TensorBoard(log_dir=logdir)\n",
    "hist = model.fit(train, epochs=30, validation_data=val, callbacks=[tensorboard_callback])"
   ]
  },
  {
   "cell_type": "code",
   "execution_count": 26,
   "id": "4b92d35b-eea7-4313-9d8b-6601528da6c2",
   "metadata": {},
   "outputs": [
    {
     "data": {
      "image/png": "[encoded data removed]",
      "text/plain": [
       "<Figure size 640x480 with 1 Axes>"
      ]
     },
     "metadata": {},
     "output_type": "display_data"
    }
   ],
   "source": [
    "fig = plt.figure()\n",
    "plt.plot(hist.history['accuracy'], color='teal', label='accuracy')\n",
    "plt.plot(hist.history['val_accuracy'], color='orange', label='val_accuracy')\n",
    "fig.suptitle('Accuracy', fontsize=20)\n",
    "plt.legend(loc=\"upper left\")\n",
    "plt.show()"
   ]
  },
  {
   "cell_type": "code",
   "execution_count": 27,
   "id": "35dca2ee-e751-492a-af95-2d067808593b",
   "metadata": {},
   "outputs": [
    {
     "data": {
      "image/png": "[encoded data removed]",
      "text/plain": [
       "<Figure size 640x480 with 1 Axes>"
      ]
     },
     "metadata": {},
     "output_type": "display_data"
    }
   ],
   "source": [
    "fig = plt.figure()\n",
    "plt.plot(hist.history['loss'], color='teal', label='loss')\n",
    "plt.plot(hist.history['val_loss'], color='orange', label='val_loss')\n",
    "fig.suptitle('Loss', fontsize=20)\n",
    "plt.legend(loc=\"upper left\")\n",
    "plt.show()"
   ]
  },
  {
   "cell_type": "code",
   "execution_count": 28,
   "id": "f9c6d7b4-b9e6-4ea5-a290-7a24eabb0d0a",
   "metadata": {},
   "outputs": [
    {
     "name": "stdout",
     "output_type": "stream",
     "text": [
      "\u001b[1m2/2\u001b[0m \u001b[32m━━━━━━━━━━━━━━━━━━━━\u001b[0m\u001b[37m\u001b[0m \u001b[1m4s\u001b[0m 16ms/step - accuracy: 1.0000 - loss: 0.0767\n",
      "Test Accuracy: 1.0\n",
      "Test Loss: 0.07651849091053009\n"
     ]
    }
   ],
   "source": [
    "#TESTING\n",
    "test_loss, test_acc = model.evaluate(test, verbose=1)\n",
    "print(\"Test Accuracy:\", test_acc)\n",
    "print(\"Test Loss:\", test_loss)"
   ]
  },
  {
   "cell_type": "code",
   "execution_count": null,
   "id": "7ecb0e8c-15b7-464c-8d30-4f617e8753a7",
   "metadata": {},
   "outputs": [],
   "source": []
  }
 ],
 "metadata": {
  "kernelspec": {
   "display_name": "imageclassification",
   "language": "python",
   "name": "imageclassification"
  },
  "language_info": {
   "codemirror_mode": {
    "name": "ipython",
    "version": 3
   },
   "file_extension": ".py",
   "mimetype": "text/x-python",
   "name": "python",
   "nbconvert_exporter": "python",
   "pygments_lexer": "ipython3",
   "version": "3.12.2"
  }
 },
 "nbformat": 4,
 "nbformat_minor": 5
}
